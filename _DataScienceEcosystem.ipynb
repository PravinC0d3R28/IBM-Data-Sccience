{
 "cells": [
  {
   "cell_type": "markdown",
   "id": "9064c60f",
   "metadata": {},
   "source": [
    "# Data Science Tools and Ecosystem"
   ]
  },
  {
   "cell_type": "markdown",
   "id": "8681a7d5",
   "metadata": {},
   "source": [
    "In this notebook, Data Science Tools and Ecosystem are summarized."
   ]
  },
  {
   "cell_type": "markdown",
   "id": "8104144d",
   "metadata": {},
   "source": [
    "Some of the popular languages that Data Scientists use are:\n",
    "1. Python\n",
    "2. R\n",
    "3. SQL\n",
    "4. C++    "
   ]
  },
  {
   "cell_type": "markdown",
   "id": "a79bc57d",
   "metadata": {},
   "source": [
    "Some of the commonly used libraries used by Data Scientists include:\n",
    "1. Tensorflow\n",
    "2. Numpy \n",
    "3. Scipy\n",
    "4. Pandas\n",
    "5. Matplotlib\n",
    "6. PyTorch"
   ]
  },
  {
   "cell_type": "markdown",
   "id": "a9373931",
   "metadata": {},
   "source": [
    "| Data Science Tools |\n",
    "|--------------------|\n",
    "| SAS                |\n",
    "| Apache Hadoop      |\n",
    "| Tensorflow         |"
   ]
  },
  {
   "cell_type": "markdown",
   "id": "272382ec-e93d-4237-a1c8-7ff0b9487223",
   "metadata": {},
   "source": [
    "### Below are a few examples of evaluating arithmetic expressions in Python."
   ]
  },
  {
   "cell_type": "code",
   "execution_count": 1,
   "id": "877ec097-95fc-420b-9fde-8a675782572f",
   "metadata": {},
   "outputs": [
    {
     "data": {
      "text/plain": [
       "17"
      ]
     },
     "execution_count": 1,
     "metadata": {},
     "output_type": "execute_result"
    }
   ],
   "source": [
    "#This is a simple arithmetic expression to multiply then add integers\n",
    "(3*4)+5"
   ]
  },
  {
   "cell_type": "code",
   "execution_count": 2,
   "id": "bb00c1f3-3247-4733-a96f-6519f8272411",
   "metadata": {},
   "outputs": [
    {
     "data": {
      "text/plain": [
       "3.3333333333333335"
      ]
     },
     "execution_count": 2,
     "metadata": {},
     "output_type": "execute_result"
    }
   ],
   "source": [
    "#This will cover 200 mniutes to hours by diving by 60\n",
    "200/60"
   ]
  },
  {
   "cell_type": "markdown",
   "id": "18b277a4-d4c6-443f-9b6f-63998a7e4910",
   "metadata": {},
   "source": [
    "__Objectives:__\n",
    "* List popular languages for Data Science\n",
    "* List popular libraries for Data Science\n",
    "* List of Well-known Data Science Tools\n",
    "* How to write comments in the cells\n"
   ]
  },
  {
   "cell_type": "markdown",
   "id": "5bcc6e82-f81c-4c78-baca-ebb51bf06964",
   "metadata": {},
   "source": [
    "## Author\n",
    "Pravin Gupta"
   ]
  }
 ],
 "metadata": {
  "kernelspec": {
   "display_name": "Python 3 (ipykernel)",
   "language": "python",
   "name": "python3"
  },
  "language_info": {
   "codemirror_mode": {
    "name": "ipython",
    "version": 3
   },
   "file_extension": ".py",
   "mimetype": "text/x-python",
   "name": "python",
   "nbconvert_exporter": "python",
   "pygments_lexer": "ipython3",
   "version": "3.11.5"
  }
 },
 "nbformat": 4,
 "nbformat_minor": 5
}
